{
 "cells": [
  {
   "cell_type": "code",
   "execution_count": null,
   "metadata": {
    "id": "GyRwim9h6Zgb"
   },
   "outputs": [],
   "source": [
    "# Importando módulos:\n",
    "import numpy as np\n",
    "import matplotlib.pyplot as plt\n",
    "from math import *"
   ]
  },
  {
   "cell_type": "markdown",
   "metadata": {
    "id": "4vQCWzlhC9SK"
   },
   "source": [
    "### Questão 1:"
   ]
  },
  {
   "cell_type": "code",
   "execution_count": null,
   "metadata": {
    "colab": {
     "base_uri": "https://localhost:8080/",
     "height": 283
    },
    "executionInfo": {
     "elapsed": 721,
     "status": "ok",
     "timestamp": 1666111227254,
     "user": {
      "displayName": "Nicole M. N",
      "userId": "14693056115983230973"
     },
     "user_tz": 180
    },
    "id": "zdrhHhor8SLx",
    "outputId": "cc29405e-677e-400d-c84f-061c62b1c99c"
   },
   "outputs": [
    {
     "data": {
      "text/plain": [
       "<matplotlib.legend.Legend at 0x7f17aa417190>"
      ]
     },
     "execution_count": 8,
     "metadata": {},
     "output_type": "execute_result"
    },
    {
     "data": {
      "image/png": "[encoded data removed]",
      "text/plain": [
       "<Figure size 432x288 with 1 Axes>"
      ]
     },
     "metadata": {
      "needs_background": "light"
     },
     "output_type": "display_data"
    }
   ],
   "source": [
    "# Faça o gráfico desta função no intervalo em questão:\n",
    "def f(x):\n",
    "  return np.exp(1)**x - 4*x**2\n",
    "\n",
    "xl = np.linspace(0, 5) \n",
    "yl = f(xl)\n",
    "plt.figure\n",
    "plt.plot(xl, yl, label= 'f(x)', c= 'mediumpurple')\n",
    "plt.grid()\n",
    "plt.legend()"
   ]
  },
  {
   "cell_type": "code",
   "execution_count": null,
   "metadata": {
    "colab": {
     "base_uri": "https://localhost:8080/"
    },
    "executionInfo": {
     "elapsed": 371,
     "status": "ok",
     "timestamp": 1666114245466,
     "user": {
      "displayName": "Nicole M. N",
      "userId": "14693056115983230973"
     },
     "user_tz": 180
    },
    "id": "zVY1BL179gNE",
    "outputId": "5cff1d81-a6cb-469f-c6a3-54ff3e08ee81"
   },
   "outputs": [
    {
     "name": "stdout",
     "output_type": "stream",
     "text": [
      "Raíz 1:  0.7148059144856914\n",
      "Raíz 2:  4.306584728261041\n"
     ]
    }
   ],
   "source": [
    "# Encontre as raizes da função no intervalo [0,5].\n",
    "def funcao(x):\n",
    "  return np.exp(1)**x - 4*x**2\n",
    "\n",
    "def dfuncao(x):\n",
    "  return np.exp(1)**x - 8*x\n",
    "\n",
    "eps=1.0e-4\n",
    "delta = 20.0\n",
    "x0 = 0.3\n",
    "\n",
    "while(delta > eps):\n",
    "  f = funcao(x0)\n",
    "  ff = dfuncao(x0)\n",
    "  x1 = x0 - f/ff\n",
    "  delta = abs(x0 - x1)\n",
    "  x0 = x1\n",
    "\n",
    "if x1 >= 0 and x1 <= 5:\n",
    "  print('Raíz 1: ', x1)\n",
    "\n",
    "eps=1.0e-4\n",
    "delta = 20.0\n",
    "x0 = 3.5\n",
    "\n",
    "while(delta > eps):\n",
    "  f = funcao(x0)\n",
    "\n",
    "  ff = dfuncao(x0)\n",
    "  x1 = x0 - f/ff\n",
    "  delta = abs(x0 - x1)\n",
    "  x0 = x1\n",
    "\n",
    "if x1 >= 0 and x1 <= 5:\n",
    "  print('Raíz 2: ', x1)"
   ]
  },
  {
   "cell_type": "code",
   "execution_count": null,
   "metadata": {
    "colab": {
     "base_uri": "https://localhost:8080/"
    },
    "executionInfo": {
     "elapsed": 11,
     "status": "ok",
     "timestamp": 1666114234177,
     "user": {
      "displayName": "Nicole M. N",
      "userId": "14693056115983230973"
     },
     "user_tz": 180
    },
    "id": "j-d1rH1iAmvW",
    "outputId": "d16ddddd-0acd-431e-c2e0-69111eb3de29"
   },
   "outputs": [
    {
     "name": "stdout",
     "output_type": "stream",
     "text": [
      "3.2616856845767477\n",
      "O mínimo é: -16.460888543272887\n"
     ]
    }
   ],
   "source": [
    "# Encontre o mínimo da função no intervalo [0,5].\n",
    "def funcao(x):\n",
    "  return np.exp(1)**x - 8*x\n",
    "\n",
    "def dfuncao(x):\n",
    "  return np.exp(1)**x - 8\n",
    "\n",
    "eps = 1.0e-4\n",
    "delta = 20.0\n",
    "x0 = 2.8\n",
    "\n",
    "while(delta > eps):\n",
    "  f = funcao(x0)\n",
    "  ff = dfuncao(x0)\n",
    "  x1 = x0 - f/ff\n",
    "  delta = abs(x0 - x1)\n",
    "  x0 = x1\n",
    "\n",
    "if x1 >= 0 and x1 <= 5:\n",
    "  print(x1)\n",
    "  print('O mínimo é:', np.exp(1)**x1 - 4*x1**2)"
   ]
  },
  {
   "cell_type": "code",
   "execution_count": null,
   "metadata": {
    "id": "3CxCFGnmDjCB"
   },
   "outputs": [],
   "source": [
    "# Encontre um dos pontos de inflexão da função no intervalo."
   ]
  },
  {
   "cell_type": "markdown",
   "metadata": {
    "id": "I7k_8OYOJm1v"
   },
   "source": [
    "### Questão 2:"
   ]
  },
  {
   "cell_type": "code",
   "execution_count": null,
   "metadata": {
    "colab": {
     "base_uri": "https://localhost:8080/"
    },
    "executionInfo": {
     "elapsed": 10,
     "status": "ok",
     "timestamp": 1666115753369,
     "user": {
      "displayName": "Nicole M. N",
      "userId": "14693056115983230973"
     },
     "user_tz": 180
    },
    "id": "g_LtlvyFJprs",
    "outputId": "686fbc5c-f486-4025-be7a-8a134dedb01d"
   },
   "outputs": [
    {
     "name": "stdout",
     "output_type": "stream",
     "text": [
      "O valor da integral é: 3.750956632653061\n"
     ]
    }
   ],
   "source": [
    "def f(x):\n",
    "  f = x**3 + 3*x**2 + 3*x + 1\n",
    "  return f\n",
    "\n",
    "def soma(f, a, b, y):\n",
    "  h = (b-a)/y\n",
    "  s = (f(a) + f(b))/2.0\n",
    "\n",
    "  for i in range(1, y):\n",
    "    s = s + f(a + i * h)\n",
    "  return s * h\n",
    "\n",
    "integral = 2.0\n",
    "fh = 2.0\n",
    "a = 0\n",
    "b = 1\n",
    "y = 3\n",
    "eps = 10e-4\n",
    "\n",
    "while(abs(fh) > eps):\n",
    "  integral = soma(f, a, b, y)\n",
    "  y = 1 + y\n",
    "  fh = 3.75 - integral\n",
    "\n",
    "print('O valor da integral é:', integral)"
   ]
  }
 ],
 "metadata": {
  "colab": {
   "authorship_tag": "ABX9TyPlxyuiZ8C87/KFcdDI4p6w",
   "collapsed_sections": [],
   "provenance": []
  },
  "kernelspec": {
   "display_name": "Python 3 (ipykernel)",
   "language": "python",
   "name": "python3"
  },
  "language_info": {
   "codemirror_mode": {
    "name": "ipython",
    "version": 3
   },
   "file_extension": ".py",
   "mimetype": "text/x-python",
   "name": "python",
   "nbconvert_exporter": "python",
   "pygments_lexer": "ipython3",
   "version": "3.8.10"
  }
 },
 "nbformat": 4,
 "nbformat_minor": 1
}
